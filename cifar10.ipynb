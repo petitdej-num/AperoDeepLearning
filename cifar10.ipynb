{
  "nbformat": 4,
  "nbformat_minor": 0,
  "metadata": {
    "colab": {
      "name": "cifar10.ipynb",
      "provenance": [],
      "collapsed_sections": [],
      "include_colab_link": true
    },
    "kernelspec": {
      "name": "python3",
      "display_name": "Python 3"
    }
  },
  "cells": [
    {
      "cell_type": "markdown",
      "metadata": {
        "id": "view-in-github",
        "colab_type": "text"
      },
      "source": [
        "<a href=\"https://colab.research.google.com/github/petitdej-num/AperoDeepLearning/blob/master/cifar10.ipynb\" target=\"_parent\"><img src=\"https://colab.research.google.com/assets/colab-badge.svg\" alt=\"Open In Colab\"/></a>"
      ]
    },
    {
      "cell_type": "markdown",
      "metadata": {
        "collapsed": true,
        "id": "_QRUIdpNgPhY",
        "colab_type": "text"
      },
      "source": [
        "\n",
        "\n",
        "# Introduction au _machine learning_ (et au _deep learning_)\n",
        "\n",
        "\n",
        "### Le machine learning, ce n'est pas que  pour les autres ! Un exemple simple et ludique !\n",
        "\n",
        "\n"
      ]
    },
    {
      "cell_type": "markdown",
      "metadata": {
        "id": "QcSEY6slgPhd",
        "colab_type": "text"
      },
      "source": [
        "## La preuve par l'exemple : Classification automatique d'images avec un peu de Deep Learning simplifié !\n"
      ]
    },
    {
      "cell_type": "markdown",
      "metadata": {
        "id": "VPWIvtBWgPhh",
        "colab_type": "text"
      },
      "source": [
        "### Si on peut faire ça en peu de temps, imaginez le potentiel sur nos propres données, avec un projet de quelques semaines ou de quelques mois, avec des compétences métiers et des solides compétences de traitement de la donnée."
      ]
    },
    {
      "cell_type": "markdown",
      "metadata": {
        "id": "549vzjCQgPhp",
        "colab_type": "text"
      },
      "source": [
        "Cette page web est un notebook _Jupyter_ qui permet d'exécuter du code sur un serveur distant. On lance des calculs sur le _cloud_  ! La démarche est simplifiée pour tenir en format atelier de 30 min. Pour un notebook plus complet, avec plus de propos explicatifs et plus d'exemples,  voir  https://notebooks.azure.com/jetzgetzlos-POC/libraries/POC-cat-classif/html/POC-cat.ipynb (notebook complet de l'atelier SGD MTES de novembre 2017)\n",
        "\n",
        "**Ne vous formalisez pas sur le code ou sur les aspects trop théoriques du machine learning** : l'idée est de maniper un peu, de voir qu'il est possible de lancer des modèles avec peu de lignes de codes, et non de devenir un expert en Machine learning. Donc pas de panique ! L'atelier sera accompagné d'explications orales et de quelques slides imagés pour comprendre le fonctionnement global."
      ]
    },
    {
      "cell_type": "markdown",
      "metadata": {
        "id": "TwJjgALtgPhw",
        "colab_type": "text"
      },
      "source": [
        "## La preuve par l'exemple : soyons fous, 50000 images, 10 classes\n",
        "\n",
        "#### Pourquoi Python ?\n",
        "\n",
        "Parce que Python offre plus de bibliothèques DeepLearning ... - désolé pour les fans de R :-)\n",
        "\n",
        "#### Les données\n",
        "\n",
        "On va utiliser ici la bibliothèque d'images CIFAR 10 (https://www.cs.toronto.edu/~kriz/cifar.html) composée de 60000 images 32x32 avec 10 classes d'images (6000 images par classe).\n",
        "\n",
        "![CIFAR](https://i0.wp.com/appliedmachinelearning.blog/wp-content/uploads/2018/03/cifar2.jpg?resize=427%2C325&ssl=1)\n",
        "\n",
        "Ces données ont fait l'objet d'un concours de datascience sur Kaggle : https://www.kaggle.com/c/cifar-10\n",
        "\n",
        "\n",
        "\n",
        "#### Les bibliothèques utilisées : Keras & Tensorflow \n",
        "\n",
        "On pourrait bien sûr tout développer nous-même mais nous n'aurions pas le temps dans la session de 30 minutes et il faudrait pour celà approfondir certains aspects théoriques. Il convient plutôt d'utiliser des bibliothèques existantes. La plus connue est **Tensorflow**, bibliothèque libre issue du laboratoire Google Brain. Nous allons aussi utiliser la bibliothèque **Keras** qui permet de masquer la complexité de Tensorflow en offrant une interface de plus haut niveau.\n",
        "\n",
        "\n",
        "\n",
        "#### Etape 1, charger les données\n",
        "\n"
      ]
    },
    {
      "cell_type": "code",
      "metadata": {
        "trusted": true,
        "id": "2eZobP0ZgPh1",
        "colab_type": "code",
        "outputId": "1daf5ea0-270a-48c2-dbad-97b8706ceb30",
        "colab": {
          "base_uri": "https://localhost:8080/",
          "height": 105
        }
      },
      "source": [
        "import tensorflow.compat.v1 as tf\n",
        "tf.disable_v2_behavior()\n",
        "\n",
        "import keras\n",
        "from keras.datasets import cifar10\n",
        "from matplotlib import pyplot as plt\n",
        "#from scipy.misc import toimage\n",
        "import numpy as np\n",
        "\n",
        "from keras.models import Sequential\n",
        "from keras.layers import Dense, Activation\n",
        "from keras.layers import Dropout\n",
        "from keras.utils import np_utils\n",
        "from keras.utils import plot_model\n",
        "from keras.utils.vis_utils import model_to_dot\n",
        "from keras.preprocessing.image import ImageDataGenerator\n",
        "\n",
        "from keras.constraints import maxnorm\n",
        "from keras.layers.convolutional import Conv2D\n",
        "from keras.layers.convolutional import MaxPooling2D\n",
        "from keras.layers.convolutional import ZeroPadding2D\n",
        "from keras.layers import Dropout\n",
        "from keras.layers import Flatten\n",
        "\n",
        "\n",
        "from IPython.display import SVG\n",
        "from sklearn.metrics import confusion_matrix\n",
        "from PIL import Image\n"
      ],
      "execution_count": 0,
      "outputs": [
        {
          "output_type": "stream",
          "text": [
            "WARNING:tensorflow:From /usr/local/lib/python3.6/dist-packages/tensorflow/python/compat/v2_compat.py:96: disable_resource_variables (from tensorflow.python.ops.variable_scope) is deprecated and will be removed in a future version.\n",
            "Instructions for updating:\n",
            "non-resource variables are not supported in the long term\n"
          ],
          "name": "stdout"
        },
        {
          "output_type": "stream",
          "text": [
            "Using TensorFlow backend.\n"
          ],
          "name": "stderr"
        }
      ]
    },
    {
      "cell_type": "code",
      "metadata": {
        "trusted": true,
        "id": "90OZnOvSgPiD",
        "colab_type": "code",
        "outputId": "6768f242-a9e4-401b-a881-e6ee14f355fb",
        "colab": {
          "base_uri": "https://localhost:8080/",
          "height": 51
        }
      },
      "source": [
        "# On charge les données ; il y a un dataset pour l'apprentissage et un autre pour les tests\n",
        "# en toute rigueur il faudrait couper le dataset en 2 pour le dev-test et le test ...\n",
        "(X_train_origin, Y_train_origin), (X_test_origin, Y_test_origin) = cifar10.load_data()"
      ],
      "execution_count": 0,
      "outputs": [
        {
          "output_type": "stream",
          "text": [
            "Downloading data from https://www.cs.toronto.edu/~kriz/cifar-10-python.tar.gz\n",
            "170500096/170498071 [==============================] - 2s 0us/step\n"
          ],
          "name": "stdout"
        }
      ]
    },
    {
      "cell_type": "code",
      "metadata": {
        "trusted": true,
        "id": "K8aLWZn4gPiO",
        "colab_type": "code",
        "colab": {}
      },
      "source": [
        "\n",
        "labels = ['avion', 'auto', 'oiseau','chat','cerf','chien','grenouille','cheval','navire','camion']"
      ],
      "execution_count": 0,
      "outputs": []
    },
    {
      "cell_type": "markdown",
      "metadata": {
        "id": "7gN2CvC-gPiX",
        "colab_type": "text"
      },
      "source": [
        "Chaque image est accompagnée d'un label qui indique sa nature (sa _classe_). L'objectif de la démarche est de construire un modèle qui va apprendre des données d'apprentissage (les images stockées dans la variable `X_train_origin` et les labels dans `Y_train_origin`). Ce modèle sera appliqué aux images de tests (`X_test`) pour _prédire_ leurs classes. Les prédictions seront ensuite comparées aux labels connus des images de test (`Y_test`) afin d'estimer la qualité du modèle."
      ]
    },
    {
      "cell_type": "code",
      "metadata": {
        "trusted": true,
        "id": "9qFMJf-lgPic",
        "colab_type": "code",
        "outputId": "0718a9b8-72db-4ee0-a6c2-7f276282210b",
        "colab": {
          "base_uri": "https://localhost:8080/",
          "height": 139
        }
      },
      "source": [
        "# On affiche la 30ième image et son label\n",
        "plt.rcParams[\"figure.figsize\"] = (1,1)\n",
        "\n",
        "index = 30\n",
        "plt.imshow(Image.fromarray(X_train_origin[index]),)\n",
        "#plt.imshow(toimage(X_train_origin[index]),)\n",
        "plt.figure(figsize=(32,32))\n",
        "plt.show()\n",
        "print(\"Label: \"+ str(Y_train_origin[index]) + \"-\" + str(labels[int(Y_train_origin[index])]))\n"
      ],
      "execution_count": 0,
      "outputs": [
        {
          "output_type": "display_data",
          "data": {
            "image/png": "[encoded data removed]",
            "text/plain": [
              "<Figure size 72x72 with 1 Axes>"
            ]
          },
          "metadata": {
            "tags": [],
            "needs_background": "light"
          }
        },
        {
          "output_type": "display_data",
          "data": {
            "text/plain": [
              "<Figure size 2304x2304 with 0 Axes>"
            ]
          },
          "metadata": {
            "tags": []
          }
        },
        {
          "output_type": "stream",
          "text": [
            "Label: [0]-avion\n"
          ],
          "name": "stdout"
        }
      ]
    },
    {
      "cell_type": "code",
      "metadata": {
        "trusted": true,
        "id": "qMnDIagZgPiw",
        "colab_type": "code",
        "outputId": "855c7881-8a2e-4746-cdc4-c42680089f39",
        "colab": {
          "base_uri": "https://localhost:8080/",
          "height": 122
        }
      },
      "source": [
        "# On affiche la 32ième image et son label\n",
        "index = 32\n",
        "plt.imshow(Image.fromarray(X_train_origin[index]),)\n",
        "plt.show()\n",
        "print(\"Label: \"+ str(Y_train_origin[index]) + \"-\" + str(labels[int(Y_train_origin[index])]))\n"
      ],
      "execution_count": 0,
      "outputs": [
        {
          "output_type": "display_data",
          "data": {
            "image/png": "[encoded data removed]",
            "text/plain": [
              "<Figure size 72x72 with 1 Axes>"
            ]
          },
          "metadata": {
            "tags": [],
            "needs_background": "light"
          }
        },
        {
          "output_type": "stream",
          "text": [
            "Label: [1]-auto\n"
          ],
          "name": "stdout"
        }
      ]
    },
    {
      "cell_type": "markdown",
      "metadata": {
        "id": "yFILbb3qgPjH",
        "colab_type": "text"
      },
      "source": [
        "#### Comprendre les données\n",
        "\n",
        "Quelle est la taille des variables `X_train`, `Y_train`, `X_test`, `Y_test` ?\n"
      ]
    },
    {
      "cell_type": "code",
      "metadata": {
        "trusted": true,
        "id": "JDr6PZpRgPjK",
        "colab_type": "code",
        "outputId": "5e3475e7-0fc6-4f2a-a796-8de13bb32f71",
        "colab": {
          "base_uri": "https://localhost:8080/",
          "height": 34
        }
      },
      "source": [
        "print(X_train_origin.shape)"
      ],
      "execution_count": 0,
      "outputs": [
        {
          "output_type": "stream",
          "text": [
            "(50000, 32, 32, 3)\n"
          ],
          "name": "stdout"
        }
      ]
    },
    {
      "cell_type": "code",
      "metadata": {
        "trusted": true,
        "id": "_XksuZQ0gPjb",
        "colab_type": "code",
        "outputId": "0939d21e-00fe-4ef7-e605-a16798fda672",
        "colab": {
          "base_uri": "https://localhost:8080/",
          "height": 34
        }
      },
      "source": [
        "print(Y_train_origin.shape)"
      ],
      "execution_count": 0,
      "outputs": [
        {
          "output_type": "stream",
          "text": [
            "(50000, 1)\n"
          ],
          "name": "stdout"
        }
      ]
    },
    {
      "cell_type": "code",
      "metadata": {
        "trusted": true,
        "id": "cnOrUo6hgPjl",
        "colab_type": "code",
        "outputId": "8721523f-a125-4c96-e7f5-dca86ab7932b",
        "colab": {
          "base_uri": "https://localhost:8080/",
          "height": 34
        }
      },
      "source": [
        "print(X_test_origin.shape)"
      ],
      "execution_count": 0,
      "outputs": [
        {
          "output_type": "stream",
          "text": [
            "(10000, 32, 32, 3)\n"
          ],
          "name": "stdout"
        }
      ]
    },
    {
      "cell_type": "code",
      "metadata": {
        "trusted": true,
        "id": "6ozp3UErgPjw",
        "colab_type": "code",
        "outputId": "45c7bb69-28f7-45e5-eaed-9b6788073ea0",
        "colab": {
          "base_uri": "https://localhost:8080/",
          "height": 34
        }
      },
      "source": [
        "print(Y_test_origin.shape)"
      ],
      "execution_count": 0,
      "outputs": [
        {
          "output_type": "stream",
          "text": [
            "(10000, 1)\n"
          ],
          "name": "stdout"
        }
      ]
    },
    {
      "cell_type": "markdown",
      "metadata": {
        "id": "5RzZ_jthgPj9",
        "colab_type": "text"
      },
      "source": [
        "Il y a 50000 images d'apprentissage et 10000 images de test.\n",
        "\n",
        "Les labels sont des vecteurs colonnes (des vecteurs). Le label de l'image n°i est `Y_train[i]`\n",
        "\n",
        "\n",
        "Chaque image est de taille (32, 32, 3). Il s'agit d'images 32*32 avec 3 niveaux de couleur (RVB)\n",
        "![image.png](https://raw.githubusercontent.com/rst-analytics/atelier-ml/master/Capture2.JPG) \n",
        "\n",
        "(source Deeplearning.ai, Andrew NG)\n",
        "\n",
        "\n",
        "Affichons d'ailleurs l'image n°30 pour s'en convaincre "
      ]
    },
    {
      "cell_type": "code",
      "metadata": {
        "trusted": true,
        "id": "LJJXRlm8gPkB",
        "colab_type": "code",
        "outputId": "9f434fdc-39f6-4205-e267-bae2b01c997d",
        "colab": {
          "base_uri": "https://localhost:8080/",
          "height": 850
        }
      },
      "source": [
        "print(X_train_origin[30])"
      ],
      "execution_count": 0,
      "outputs": [
        {
          "output_type": "stream",
          "text": [
            "[[[126 118 110]\n",
            "  [122 115 108]\n",
            "  [126 119 111]\n",
            "  ...\n",
            "  [124 118 106]\n",
            "  [120 114 102]\n",
            "  [117 111  99]]\n",
            "\n",
            " [[122 115 107]\n",
            "  [119 112 104]\n",
            "  [121 114 106]\n",
            "  ...\n",
            "  [124 118 106]\n",
            "  [122 116 104]\n",
            "  [117 111  99]]\n",
            "\n",
            " [[122 115 107]\n",
            "  [121 114 106]\n",
            "  [121 114 106]\n",
            "  ...\n",
            "  [126 120 108]\n",
            "  [123 117 105]\n",
            "  [121 115 103]]\n",
            "\n",
            " ...\n",
            "\n",
            " [[126 118 107]\n",
            "  [126 118 107]\n",
            "  [128 120 109]\n",
            "  ...\n",
            "  [133 125 114]\n",
            "  [122 114 103]\n",
            "  [114 106  95]]\n",
            "\n",
            " [[125 117 106]\n",
            "  [126 118 107]\n",
            "  [127 119 108]\n",
            "  ...\n",
            "  [128 120 109]\n",
            "  [121 113 102]\n",
            "  [114 106  95]]\n",
            "\n",
            " [[123 115 104]\n",
            "  [123 115 104]\n",
            "  [126 118 107]\n",
            "  ...\n",
            "  [128 119 109]\n",
            "  [126 118 107]\n",
            "  [121 113 102]]]\n"
          ],
          "name": "stdout"
        }
      ]
    },
    {
      "cell_type": "markdown",
      "metadata": {
        "id": "zgVHHD8WgPkQ",
        "colab_type": "text"
      },
      "source": [
        "#### Transformons nos images en vecteurs ! (pas forcément très malin, mais il faut bien commencer ...\n",
        "\n",
        "L'idée est de transformer chaque image en un seul vecteur colonne, en concaténant les 3 matrices en une seule colonne\n",
        "![image.png](https://raw.githubusercontent.com/rst-analytics/atelier-ml/master/Capture4.JPG) (source Deeplearning.ai, Andrew NG)\n",
        "\n",
        "L'idée est de transformer notre matrice (50000, 32, 32, 3) en une matrice (50000, 32x32x3) c'est-à-dire en une matrice (50000, 3072)\n"
      ]
    },
    {
      "cell_type": "code",
      "metadata": {
        "trusted": true,
        "id": "HcKuK2BngPkT",
        "colab_type": "code",
        "outputId": "d3c66b9e-626a-40fe-8ffa-d68bfafd29b0",
        "colab": {
          "base_uri": "https://localhost:8080/",
          "height": 51
        }
      },
      "source": [
        "m_train = X_train_origin.shape[0] #Nombre d'images d'apprentissage\n",
        "X_train = X_train_origin.reshape(m_train, -1)\n",
        "\n",
        "m_test = X_test_origin.shape[0] #Nombre d'images de test\n",
        "X_test = X_test_origin.reshape(m_test, -1)\n",
        "\n",
        "print(X_train.shape)\n",
        "print(X_test.shape)"
      ],
      "execution_count": 0,
      "outputs": [
        {
          "output_type": "stream",
          "text": [
            "(50000, 3072)\n",
            "(10000, 3072)\n"
          ],
          "name": "stdout"
        }
      ]
    },
    {
      "cell_type": "markdown",
      "metadata": {
        "id": "Jhj79KGzgPlB",
        "colab_type": "text"
      },
      "source": [
        "#### Normalisons les données\n",
        "\n",
        "Une traitement classique de _preprocessing_ des données en machine learning est de centrer et normaliser les données (on soustrait la moyenne et on divise par l'écart type). En traitement d'images, une autre technique efficace (plus simple et qui marche aussi bien) est de diviser l'ensemble des valeurs des pixels par 255 (la valeur maximale possible).\n",
        "\n",
        "https://stats.stackexchange.com/questions/211436/why-do-we-normalize-images-by-subtracting-the-datasets-image-mean-and-not-the-c\n",
        "\n",
        "\n",
        "![image.png](https://raw.githubusercontent.com/rst-analytics/atelier-ml/master/index.png) \n",
        "\n",
        "(Source : Hands-On Machine Learning with Scikit-Learn & TensorFlow, A. Guedon)"
      ]
    },
    {
      "cell_type": "code",
      "metadata": {
        "trusted": true,
        "id": "BLI_0y3dgPlD",
        "colab_type": "code",
        "colab": {}
      },
      "source": [
        "X_train = X_train/255\n",
        "X_test = X_test/255"
      ],
      "execution_count": 0,
      "outputs": []
    },
    {
      "cell_type": "markdown",
      "metadata": {
        "id": "0ic9DaC0gPlS",
        "colab_type": "text"
      },
      "source": [
        "### Transformons le vecteur de label en matrice\n",
        "\n",
        "L'idée est d'avoir 10 colonnes de labels par image (1 colonne pour chaque classe). C'est une astuce utile pour la suite. \n",
        "Ex : Si la classe de l'image n°i est la classe 7, on rempli la ligne i de la nouvelle matrice par des 0 sauf la colonne 6 qui contient 1. En effet, on commence à numéroter à 0 donc la 7ième colonne est la colonne n°6. "
      ]
    },
    {
      "cell_type": "code",
      "metadata": {
        "trusted": true,
        "id": "NkVD1NHRgPlV",
        "colab_type": "code",
        "outputId": "006d8d3d-feb0-43d0-8af1-2f0e9ad55a25",
        "colab": {
          "base_uri": "https://localhost:8080/",
          "height": 34
        }
      },
      "source": [
        "num_classes = 10\n",
        "Y_train = np_utils.to_categorical(Y_train_origin)\n",
        "Y_test = np_utils.to_categorical(Y_test_origin)\n",
        "Y_train.shape"
      ],
      "execution_count": 0,
      "outputs": [
        {
          "output_type": "execute_result",
          "data": {
            "text/plain": [
              "(50000, 10)"
            ]
          },
          "metadata": {
            "tags": []
          },
          "execution_count": 13
        }
      ]
    },
    {
      "cell_type": "code",
      "metadata": {
        "trusted": true,
        "id": "p6gSs63_gPlh",
        "colab_type": "code",
        "outputId": "b38297a6-2615-4fbe-d079-6d5f97a360f1",
        "colab": {
          "base_uri": "https://localhost:8080/",
          "height": 68
        }
      },
      "source": [
        "print(Y_train_origin[56,]) #Label de l'image 56\n",
        "print(Y_train[56])\n",
        "print(str(labels[int(Y_train_origin[56])]))"
      ],
      "execution_count": 0,
      "outputs": [
        {
          "output_type": "stream",
          "text": [
            "[5]\n",
            "[0. 0. 0. 0. 0. 1. 0. 0. 0. 0.]\n",
            "chien\n"
          ],
          "name": "stdout"
        }
      ]
    },
    {
      "cell_type": "markdown",
      "metadata": {
        "id": "qh9DIRd7gPlp",
        "colab_type": "text"
      },
      "source": [
        "#### Reproduisons l'aléatoire\n",
        "\n",
        "L'algorithme va générer des valeurs initiales aléatoires pour les paramètres à estimer. La génération de nombres aléatoires n'est pas vraiment aléatoire sur un ordinateur ! Et il est important de pouvoir reproduire nos tests. Pour cela, on paramètre le seed qui est un chiffre qui permet d'initialiser le générateur de chiffres aléatoires ! Sur cette base, l'ordinateur générera des nombres aléatoires mais on pourra reproduire et retrouver ces chiffres par la suite (en théorie). On pourra regénérer en effet exactement les mêmes séquences de chiffres aléatoires."
      ]
    },
    {
      "cell_type": "code",
      "metadata": {
        "trusted": true,
        "id": "QlVyGoCAgPlv",
        "colab_type": "code",
        "colab": {}
      },
      "source": [
        "#Set seed\n",
        "seed = 3124\n",
        "np.random.seed(seed)"
      ],
      "execution_count": 0,
      "outputs": []
    },
    {
      "cell_type": "markdown",
      "metadata": {
        "id": "rvXm66wYgPl6",
        "colab_type": "text"
      },
      "source": [
        "#### Premier réseau de neurone très simple (3 couches de 3 neurones)\n",
        "Pourquoi 3 couches de 3 neurones ? Et bein, pourquoi pas ! Il faut bien tester sur un premier modèle, non ?\n",
        "On pourrait faire 4 couches de respectivement 16, 32, 16 et 8 neurones. On peut faire ce qu'on veut !\n",
        "\n",
        "![image.png](https://raw.githubusercontent.com/rst-analytics/atelier-ml/master/nn33.jpg)"
      ]
    },
    {
      "cell_type": "code",
      "metadata": {
        "trusted": true,
        "id": "161aN4uwgPl8",
        "colab_type": "code",
        "outputId": "b0b5b0d0-233e-4718-a31c-ec820ed07604",
        "colab": {
          "base_uri": "https://localhost:8080/",
          "height": 442
        }
      },
      "source": [
        "model = Sequential()\n",
        "model.add(Dense(units=3, input_dim=3072))   #3072 = taille de l'image en entrée = 32*32*3\n",
        "model.add(Activation('relu')) # Fonction d'activation non linéaire\n",
        "model.add(Dense(units=3))\n",
        "model.add(Activation('relu'))\n",
        "model.add(Dense(units=3))\n",
        "model.add(Activation('relu'))\n",
        "model.add(Dense(units=num_classes)) #En sortie, 10 outputs, une sortie par classe possible \n",
        "model.add(Activation('softmax'))   \n",
        "\n",
        "#La fonction softmax revoie la probabilité que l'image en entrée soit de la classe i\n",
        "#(i allant de 0 à 9)\n",
        "\n",
        "model.compile(optimizer='adam', loss=keras.losses.categorical_crossentropy,metrics=['accuracy'])\n",
        "#Adam = Algorithme très efficace d'optimisation ! Pour plus de détails : https://arxiv.org/pdf/1412.6980   ;-)\n",
        "# On utilise la fonction de coût entropie croisée\n",
        "\n",
        "print(model.summary())\n",
        "\n",
        "#SVG(model_to_dot(model,show_shapes=True).create(prog='dot', format='svg'))"
      ],
      "execution_count": 0,
      "outputs": [
        {
          "output_type": "stream",
          "text": [
            "Model: \"sequential_4\"\n",
            "_________________________________________________________________\n",
            "Layer (type)                 Output Shape              Param #   \n",
            "=================================================================\n",
            "dense_13 (Dense)             (None, 3)                 9219      \n",
            "_________________________________________________________________\n",
            "activation_13 (Activation)   (None, 3)                 0         \n",
            "_________________________________________________________________\n",
            "dense_14 (Dense)             (None, 3)                 12        \n",
            "_________________________________________________________________\n",
            "activation_14 (Activation)   (None, 3)                 0         \n",
            "_________________________________________________________________\n",
            "dense_15 (Dense)             (None, 3)                 12        \n",
            "_________________________________________________________________\n",
            "activation_15 (Activation)   (None, 3)                 0         \n",
            "_________________________________________________________________\n",
            "dense_16 (Dense)             (None, 10)                40        \n",
            "_________________________________________________________________\n",
            "activation_16 (Activation)   (None, 10)                0         \n",
            "=================================================================\n",
            "Total params: 9,283\n",
            "Trainable params: 9,283\n",
            "Non-trainable params: 0\n",
            "_________________________________________________________________\n",
            "None\n"
          ],
          "name": "stdout"
        }
      ]
    },
    {
      "cell_type": "markdown",
      "metadata": {
        "id": "R71JnT1jgPmX",
        "colab_type": "text"
      },
      "source": [
        "Notez qu'il y a 9283 paramètres à résoudre pour le réseau de neurones.\n",
        "\n",
        "\n",
        "Lançons la phase d'apprentissage. Il s'agit d'un processus itératif : on lance 10 itérations. On pourrait lancer l'algorithme et l'arrêter lorsqu'il ne s'améliore plus. On choisit ici arbitrairement 10 époques.\n",
        "On calcule progressivement l'ensemble des éléments, à chaque époque, en prenant les données d'apprentissage par paquet (batch) de 32 photos."
      ]
    },
    {
      "cell_type": "code",
      "metadata": {
        "trusted": true,
        "id": "9WvW8b9GgPmZ",
        "colab_type": "code",
        "outputId": "f2d149ea-a44a-49ae-9ca9-8ead20acf591",
        "colab": {
          "base_uri": "https://localhost:8080/",
          "height": 357
        }
      },
      "source": [
        "training = model.fit(X_train, Y_train, epochs=10, batch_size=32)"
      ],
      "execution_count": 0,
      "outputs": [
        {
          "output_type": "stream",
          "text": [
            "Epoch 1/10\n",
            "50000/50000 [==============================] - 3s 66us/step - loss: 2.1816 - accuracy: 0.1647\n",
            "Epoch 2/10\n",
            "50000/50000 [==============================] - 3s 65us/step - loss: 2.0750 - accuracy: 0.1904\n",
            "Epoch 3/10\n",
            "50000/50000 [==============================] - 3s 64us/step - loss: 2.0467 - accuracy: 0.1940\n",
            "Epoch 4/10\n",
            "50000/50000 [==============================] - 3s 64us/step - loss: 2.0398 - accuracy: 0.1991\n",
            "Epoch 5/10\n",
            "50000/50000 [==============================] - 3s 64us/step - loss: 2.0382 - accuracy: 0.1983\n",
            "Epoch 6/10\n",
            "50000/50000 [==============================] - 3s 64us/step - loss: 2.0356 - accuracy: 0.2006\n",
            "Epoch 7/10\n",
            "50000/50000 [==============================] - 3s 66us/step - loss: 2.0331 - accuracy: 0.2013\n",
            "Epoch 8/10\n",
            "50000/50000 [==============================] - 3s 65us/step - loss: 2.0323 - accuracy: 0.2031\n",
            "Epoch 9/10\n",
            "50000/50000 [==============================] - 3s 63us/step - loss: 2.0287 - accuracy: 0.2041\n",
            "Epoch 10/10\n",
            "50000/50000 [==============================] - 3s 64us/step - loss: 2.0259 - accuracy: 0.2059\n"
          ],
          "name": "stdout"
        }
      ]
    },
    {
      "cell_type": "code",
      "metadata": {
        "id": "mY4gLm6dhjZt",
        "colab_type": "code",
        "colab": {}
      },
      "source": [
        ""
      ],
      "execution_count": 0,
      "outputs": []
    },
    {
      "cell_type": "markdown",
      "metadata": {
        "id": "CuhWIouEgPmr",
        "colab_type": "text"
      },
      "source": [
        "pas terrible (mais c'est mieux que le hasard). Ca veut dire ici, que le modèle a permis de classifier correctement 20 % des données d'apprentissage (donc les données avec lesquelles il a appris). \n",
        "\n",
        "\n",
        "Regardons ce que donne le modèle sur les données de test, c'est-à-dire les données que le modèle n'a jamais vues :"
      ]
    },
    {
      "cell_type": "code",
      "metadata": {
        "trusted": true,
        "id": "GSmNpsFZgPm3",
        "colab_type": "code",
        "outputId": "a33f50c0-248d-48c7-9e72-38fb6e4cca3c",
        "colab": {
          "base_uri": "https://localhost:8080/",
          "height": 34
        }
      },
      "source": [
        "scores = model.evaluate(X_test, Y_test, verbose=0)\n",
        "print(scores[1]*100)"
      ],
      "execution_count": 0,
      "outputs": [
        {
          "output_type": "stream",
          "text": [
            "20.559999346733093\n"
          ],
          "name": "stdout"
        }
      ]
    },
    {
      "cell_type": "markdown",
      "metadata": {
        "id": "K2CUv6t4gPnd",
        "colab_type": "text"
      },
      "source": [
        "Pareil; 20%; pas terrible !!"
      ]
    },
    {
      "cell_type": "markdown",
      "metadata": {
        "id": "i0MU8zXTgPnm",
        "colab_type": "text"
      },
      "source": [
        "####  Essayons sur un gros réseau de neurones (On fait du deep learning, après tout !!)\n",
        "\n",
        "Le deep learning, c'est la technique consistant à utiliser des gros réseaux de neurones. On va donc en utiliser un gros ; par exemple celui-ci."
      ]
    },
    {
      "cell_type": "code",
      "metadata": {
        "trusted": true,
        "id": "1ORORsWagPoU",
        "colab_type": "code",
        "outputId": "88e5544f-a2d6-437b-96ff-b4d8a5b48be1",
        "colab": {
          "base_uri": "https://localhost:8080/",
          "height": 646
        }
      },
      "source": [
        "# Create the model\n",
        "model = Sequential()\n",
        "model.add(Dense(units=128, input_dim=3072))\n",
        "model.add(Activation('relu'))\n",
        "model.add(Dense(units=128))\n",
        "model.add(Activation('relu'))\n",
        "model.add(Dense(units=64))\n",
        "model.add(Activation('relu'))\n",
        "model.add(Dense(units=32))\n",
        "model.add(Activation('relu'))\n",
        "model.add(Dense(units=32))\n",
        "model.add(Activation('relu'))\n",
        "model.add(Dense(units=16))\n",
        "model.add(Activation('relu'))\n",
        "model.add(Dense(units=num_classes))\n",
        "model.add(Activation('softmax'))\n",
        "\n",
        "model.compile(optimizer='adam', loss=keras.losses.categorical_crossentropy,metrics=['accuracy'])\n",
        "print(model.summary())\n",
        "\n",
        "#SVG(model_to_dot(model,show_shapes=True).create(prog='dot', format='svg'))\n",
        "\n",
        "\n",
        "\n",
        "\n"
      ],
      "execution_count": 0,
      "outputs": [
        {
          "output_type": "stream",
          "text": [
            "Model: \"sequential_5\"\n",
            "_________________________________________________________________\n",
            "Layer (type)                 Output Shape              Param #   \n",
            "=================================================================\n",
            "dense_17 (Dense)             (None, 128)               393344    \n",
            "_________________________________________________________________\n",
            "activation_17 (Activation)   (None, 128)               0         \n",
            "_________________________________________________________________\n",
            "dense_18 (Dense)             (None, 128)               16512     \n",
            "_________________________________________________________________\n",
            "activation_18 (Activation)   (None, 128)               0         \n",
            "_________________________________________________________________\n",
            "dense_19 (Dense)             (None, 64)                8256      \n",
            "_________________________________________________________________\n",
            "activation_19 (Activation)   (None, 64)                0         \n",
            "_________________________________________________________________\n",
            "dense_20 (Dense)             (None, 32)                2080      \n",
            "_________________________________________________________________\n",
            "activation_20 (Activation)   (None, 32)                0         \n",
            "_________________________________________________________________\n",
            "dense_21 (Dense)             (None, 32)                1056      \n",
            "_________________________________________________________________\n",
            "activation_21 (Activation)   (None, 32)                0         \n",
            "_________________________________________________________________\n",
            "dense_22 (Dense)             (None, 16)                528       \n",
            "_________________________________________________________________\n",
            "activation_22 (Activation)   (None, 16)                0         \n",
            "_________________________________________________________________\n",
            "dense_23 (Dense)             (None, 10)                170       \n",
            "_________________________________________________________________\n",
            "activation_23 (Activation)   (None, 10)                0         \n",
            "=================================================================\n",
            "Total params: 421,946\n",
            "Trainable params: 421,946\n",
            "Non-trainable params: 0\n",
            "_________________________________________________________________\n",
            "None\n"
          ],
          "name": "stdout"
        }
      ]
    },
    {
      "cell_type": "markdown",
      "metadata": {
        "id": "IprfszLogPok",
        "colab_type": "text"
      },
      "source": [
        "On a un peu plus de paramètres à établir (422K) ... Essayons."
      ]
    },
    {
      "cell_type": "code",
      "metadata": {
        "trusted": true,
        "id": "952bRDmAgPol",
        "colab_type": "code",
        "outputId": "3f07bdfa-6ecb-47be-a513-fc8c9937abb1",
        "colab": {
          "base_uri": "https://localhost:8080/",
          "height": 374
        }
      },
      "source": [
        "model.fit(X_train, Y_train, epochs=10, batch_size=32)"
      ],
      "execution_count": 0,
      "outputs": [
        {
          "output_type": "stream",
          "text": [
            "Epoch 1/10\n",
            "50000/50000 [==============================] - 15s 300us/step - loss: 2.0251 - acc: 0.2427\n",
            "Epoch 2/10\n",
            "50000/50000 [==============================] - 15s 291us/step - loss: 1.7867 - acc: 0.3505\n",
            "Epoch 3/10\n",
            "50000/50000 [==============================] - 15s 296us/step - loss: 1.7146 - acc: 0.3785\n",
            "Epoch 4/10\n",
            "50000/50000 [==============================] - 15s 302us/step - loss: 1.6680 - acc: 0.3998\n",
            "Epoch 5/10\n",
            "50000/50000 [==============================] - 15s 307us/step - loss: 1.6379 - acc: 0.4119\n",
            "Epoch 6/10\n",
            "50000/50000 [==============================] - 15s 305us/step - loss: 1.6050 - acc: 0.4202\n",
            "Epoch 7/10\n",
            "50000/50000 [==============================] - 16s 311us/step - loss: 1.5835 - acc: 0.4300\n",
            "Epoch 8/10\n",
            "50000/50000 [==============================] - 15s 300us/step - loss: 1.5653 - acc: 0.4375\n",
            "Epoch 9/10\n",
            "50000/50000 [==============================] - 15s 299us/step - loss: 1.5473 - acc: 0.4419\n",
            "Epoch 10/10\n",
            "50000/50000 [==============================] - 15s 299us/step - loss: 1.5314 - acc: 0.4487\n"
          ],
          "name": "stdout"
        },
        {
          "output_type": "execute_result",
          "data": {
            "text/plain": [
              "<keras.callbacks.History at 0x7fb2bc64a358>"
            ]
          },
          "metadata": {
            "tags": []
          },
          "execution_count": 28
        }
      ]
    },
    {
      "cell_type": "code",
      "metadata": {
        "trusted": true,
        "id": "uCz1lnAngPoy",
        "colab_type": "code",
        "outputId": "dc170cde-9ae1-4efa-ac64-95c089538899",
        "colab": {
          "base_uri": "https://localhost:8080/",
          "height": 34
        }
      },
      "source": [
        "scores = model.evaluate(X_test, Y_test, verbose=1)\n"
      ],
      "execution_count": 0,
      "outputs": [
        {
          "output_type": "stream",
          "text": [
            "10000/10000 [==============================] - 1s 73us/step\n"
          ],
          "name": "stdout"
        }
      ]
    },
    {
      "cell_type": "code",
      "metadata": {
        "trusted": true,
        "id": "m6It4b4YgPo6",
        "colab_type": "code",
        "outputId": "f0b5b982-28e4-4d0a-d18f-9986107b928c",
        "colab": {
          "base_uri": "https://localhost:8080/",
          "height": 34
        }
      },
      "source": [
        "print(scores[1])\n"
      ],
      "execution_count": 0,
      "outputs": [
        {
          "output_type": "stream",
          "text": [
            "0.4535\n"
          ],
          "name": "stdout"
        }
      ]
    },
    {
      "cell_type": "markdown",
      "metadata": {
        "id": "z-uNKMVhgPo_",
        "colab_type": "text"
      },
      "source": [
        "*~ 50 %* de bonnes classifications !! en utilisant un réseau de neurones simple (mais très profond, merci la puissance de calcul de Google !!) et sans trop d'effort de paramétrage !\n",
        "\n",
        "La différence entre la classification sur les données d'apprentissage  et celle de test montre un sur-apprentissage à ce stade."
      ]
    },
    {
      "cell_type": "markdown",
      "metadata": {
        "id": "gWlTW06cgPpB",
        "colab_type": "text"
      },
      "source": [
        "#### Essayons d'analyser les mauvaises classifications !!"
      ]
    },
    {
      "cell_type": "code",
      "metadata": {
        "trusted": true,
        "id": "f4zUXYw1gPpC",
        "colab_type": "code",
        "outputId": "69ee87ac-422a-483d-9c83-ca888a6163e4",
        "colab": {
          "base_uri": "https://localhost:8080/",
          "height": 1000
        }
      },
      "source": [
        "y_pred_proba = model.predict(X_test)*100\n",
        "y_pred_bin=np.argmax(y_pred_proba,axis=-1)\n",
        "y_pred = np_utils.to_categorical(y_pred_bin)\n",
        "\n",
        "for i in range(0, 20):\n",
        "    print(y_pred_proba[i])\n",
        "    print(\"prediction : \" + str(labels[int(y_pred_bin[i])]))\n",
        "    print(\"label vrai : \" + str(labels[int(Y_test_origin[i])]))\n",
        "    plt.imshow(Image.fromarray(X_test_origin[i]),)\n",
        "    #plt.imshow(toimage(X_test_origin[i]),)\n",
        "    plt.show()\n",
        "    \n"
      ],
      "execution_count": 0,
      "outputs": [
        {
          "output_type": "stream",
          "text": [
            "[10.941625   14.837119    3.5633783  25.04744     3.82415    18.063562\n",
            "  3.9916716   0.99500483 15.78078     2.9552689 ]\n",
            "prediction : chat\n",
            "label vrai : chat\n"
          ],
          "name": "stdout"
        },
        {
          "output_type": "display_data",
          "data": {
            "image/png": "[encoded data removed]",
            "text/plain": [
              "<Figure size 72x72 with 1 Axes>"
            ]
          },
          "metadata": {
            "tags": []
          }
        },
        {
          "output_type": "stream",
          "text": [
            "[3.71294737e+00 2.08728657e+01 1.19451225e-01 1.13248967e-01\n",
            " 1.49048552e-01 1.20937042e-01 5.35881100e-03 2.74123549e-01\n",
            " 2.98743019e+01 4.47577248e+01]\n",
            "prediction : camion\n",
            "label vrai : navire\n"
          ],
          "name": "stdout"
        },
        {
          "output_type": "display_data",
          "data": {
            "image/png": "[encoded data removed]",
            "text/plain": [
              "<Figure size 72x72 with 1 Axes>"
            ]
          },
          "metadata": {
            "tags": []
          }
        },
        {
          "output_type": "stream",
          "text": [
            "[1.2171538e+01 1.3042888e+01 3.2258359e-01 9.5142379e-02 2.8483748e-01\n",
            " 1.0470454e-01 2.9052214e-03 4.7248775e-01 5.1628441e+01 2.1874472e+01]\n",
            "prediction : navire\n",
            "label vrai : navire\n"
          ],
          "name": "stdout"
        },
        {
          "output_type": "display_data",
          "data": {
            "image/png": "[encoded data removed]",
            "text/plain": [
              "<Figure size 72x72 with 1 Axes>"
            ]
          },
          "metadata": {
            "tags": []
          }
        },
        {
          "output_type": "stream",
          "text": [
            "[41.203205    9.064403    5.906395    0.87335056  5.824803    0.99068636\n",
            "  0.11135559  5.2211766  23.071293    7.733333  ]\n",
            "prediction : avion\n",
            "label vrai : avion\n"
          ],
          "name": "stdout"
        },
        {
          "output_type": "display_data",
          "data": {
            "image/png": "[encoded data removed]",
            "text/plain": [
              "<Figure size 72x72 with 1 Axes>"
            ]
          },
          "metadata": {
            "tags": []
          }
        },
        {
          "output_type": "stream",
          "text": [
            "[ 1.2255074   0.1336054  22.18473     4.9373655  48.508972    4.426342\n",
            " 14.964408    3.406211    0.10901166  0.10384714]\n",
            "prediction : cerf\n",
            "label vrai : grenouille\n"
          ],
          "name": "stdout"
        },
        {
          "output_type": "display_data",
          "data": {
            "image/png": "[encoded data removed]",
            "text/plain": [
              "<Figure size 72x72 with 1 Axes>"
            ]
          },
          "metadata": {
            "tags": []
          }
        },
        {
          "output_type": "stream",
          "text": [
            "[ 4.356457   8.67972    7.4453006 22.69295   10.228435  10.815628\n",
            " 23.47963    5.2403226  1.7715212  5.2900333]\n",
            "prediction : grenouille\n",
            "label vrai : grenouille\n"
          ],
          "name": "stdout"
        },
        {
          "output_type": "display_data",
          "data": {
            "image/png": "[encoded data removed]",
            "text/plain": [
              "<Figure size 72x72 with 1 Axes>"
            ]
          },
          "metadata": {
            "tags": []
          }
        },
        {
          "output_type": "stream",
          "text": [
            "[ 1.1467668  2.5539525  2.3789623 42.482464   1.0080976 37.144016\n",
            "  9.606899   0.9314143  1.191265   1.5561566]\n",
            "prediction : chat\n",
            "label vrai : auto\n"
          ],
          "name": "stdout"
        },
        {
          "output_type": "display_data",
          "data": {
            "image/png": "[encoded data removed]",
            "text/plain": [
              "<Figure size 72x72 with 1 Axes>"
            ]
          },
          "metadata": {
            "tags": []
          }
        },
        {
          "output_type": "stream",
          "text": [
            "[ 1.2250997   0.1176265  29.965322    8.285306   21.830885    7.204783\n",
            " 28.250381    2.7352374   0.16155331  0.2238139 ]\n",
            "prediction : oiseau\n",
            "label vrai : grenouille\n"
          ],
          "name": "stdout"
        },
        {
          "output_type": "display_data",
          "data": {
            "image/png": "[encoded data removed]",
            "text/plain": [
              "<Figure size 72x72 with 1 Axes>"
            ]
          },
          "metadata": {
            "tags": []
          }
        },
        {
          "output_type": "stream",
          "text": [
            "[16.802729    0.8526273  23.03819    15.686327    8.99901    21.549622\n",
            "  2.37545     8.593862    1.3468175   0.75536436]\n",
            "prediction : oiseau\n",
            "label vrai : chat\n"
          ],
          "name": "stdout"
        },
        {
          "output_type": "display_data",
          "data": {
            "image/png": "[encoded data removed]",
            "text/plain": [
              "<Figure size 72x72 with 1 Axes>"
            ]
          },
          "metadata": {
            "tags": []
          }
        },
        {
          "output_type": "stream",
          "text": [
            "[9.9450487e-01 7.5558762e+01 1.1725705e-01 1.2945251e+00 2.8321214e-02\n",
            " 9.5025647e-01 8.5088199e-01 1.3013287e-01 1.0099806e+00 1.9065380e+01]\n",
            "prediction : auto\n",
            "label vrai : auto\n"
          ],
          "name": "stdout"
        },
        {
          "output_type": "display_data",
          "data": {
            "image/png": "[encoded data removed]",
            "text/plain": [
              "<Figure size 72x72 with 1 Axes>"
            ]
          },
          "metadata": {
            "tags": []
          }
        },
        {
          "output_type": "stream",
          "text": [
            "[16.628864    2.8726273   3.487826    6.034081    1.8586025   6.1755624\n",
            "  0.43664092  0.23217076 61.729527    0.5440952 ]\n",
            "prediction : navire\n",
            "label vrai : avion\n"
          ],
          "name": "stdout"
        },
        {
          "output_type": "display_data",
          "data": {
            "image/png": "[encoded data removed]",
            "text/plain": [
              "<Figure size 72x72 with 1 Axes>"
            ]
          },
          "metadata": {
            "tags": []
          }
        },
        {
          "output_type": "stream",
          "text": [
            "[ 0.89320356 37.191708    0.09645411  0.26265347  0.10866301  0.31012788\n",
            "  0.0796712   0.29493853  4.071189   56.691395  ]\n",
            "prediction : camion\n",
            "label vrai : camion\n"
          ],
          "name": "stdout"
        },
        {
          "output_type": "display_data",
          "data": {
            "image/png": "[encoded data removed]",
            "text/plain": [
              "<Figure size 72x72 with 1 Axes>"
            ]
          },
          "metadata": {
            "tags": []
          }
        },
        {
          "output_type": "stream",
          "text": [
            "[ 2.8900967  1.8490599 11.995202  23.63616    6.774745  29.280949\n",
            " 14.989889   5.75897    0.984503   1.8404268]\n",
            "prediction : chien\n",
            "label vrai : chien\n"
          ],
          "name": "stdout"
        },
        {
          "output_type": "display_data",
          "data": {
            "image/png": "[encoded data removed]",
            "text/plain": [
              "<Figure size 72x72 with 1 Axes>"
            ]
          },
          "metadata": {
            "tags": []
          }
        },
        {
          "output_type": "stream",
          "text": [
            "[ 8.318293  31.485134   3.8145368  3.8403797  3.106775   9.186021\n",
            "  0.3442727 28.134827   3.1602998  8.60947  ]\n",
            "prediction : auto\n",
            "label vrai : cheval\n"
          ],
          "name": "stdout"
        },
        {
          "output_type": "display_data",
          "data": {
            "image/png": "[encoded data removed]",
            "text/plain": [
              "<Figure size 72x72 with 1 Axes>"
            ]
          },
          "metadata": {
            "tags": []
          }
        },
        {
          "output_type": "stream",
          "text": [
            "[ 5.2307825 31.625792   3.6416676  2.600017   3.604639   2.4746811\n",
            "  3.3846724  6.1253996  3.4941483 37.818195 ]\n",
            "prediction : camion\n",
            "label vrai : camion\n"
          ],
          "name": "stdout"
        },
        {
          "output_type": "display_data",
          "data": {
            "image/png": "[encoded data removed]",
            "text/plain": [
              "<Figure size 72x72 with 1 Axes>"
            ]
          },
          "metadata": {
            "tags": []
          }
        },
        {
          "output_type": "stream",
          "text": [
            "[ 4.501614    6.667143    1.4247155   2.5989437   2.8621306   2.375287\n",
            "  0.18071751  0.6236612  76.063446    2.7023456 ]\n",
            "prediction : navire\n",
            "label vrai : navire\n"
          ],
          "name": "stdout"
        },
        {
          "output_type": "display_data",
          "data": {
            "image/png": "[encoded data removed]",
            "text/plain": [
              "<Figure size 72x72 with 1 Axes>"
            ]
          },
          "metadata": {
            "tags": []
          }
        },
        {
          "output_type": "stream",
          "text": [
            "[ 2.430729   1.3445727  5.582143  18.421436   0.9971924 62.343407\n",
            "  1.4615085  4.6474047  1.221654   1.5499554]\n",
            "prediction : chien\n",
            "label vrai : chien\n"
          ],
          "name": "stdout"
        },
        {
          "output_type": "display_data",
          "data": {
            "image/png": "[encoded data removed]",
            "text/plain": [
              "<Figure size 72x72 with 1 Axes>"
            ]
          },
          "metadata": {
            "tags": []
          }
        },
        {
          "output_type": "stream",
          "text": [
            "[ 4.930105  15.975101   7.188469  10.437194  11.302877   7.082454\n",
            "  8.65589   15.670475   3.0179121 15.739528 ]\n",
            "prediction : auto\n",
            "label vrai : cheval\n"
          ],
          "name": "stdout"
        },
        {
          "output_type": "display_data",
          "data": {
            "image/png": "[encoded data removed]",
            "text/plain": [
              "<Figure size 72x72 with 1 Axes>"
            ]
          },
          "metadata": {
            "tags": []
          }
        },
        {
          "output_type": "stream",
          "text": [
            "[1.5033550e+00 1.7216345e+00 1.6489023e-02 7.7123836e-02 2.1999847e-02\n",
            " 3.8673948e-02 1.4997070e-04 6.7849047e-03 9.6096573e+01 5.1722091e-01]\n",
            "prediction : navire\n",
            "label vrai : navire\n"
          ],
          "name": "stdout"
        },
        {
          "output_type": "display_data",
          "data": {
            "image/png": "[encoded data removed]",
            "text/plain": [
              "<Figure size 72x72 with 1 Axes>"
            ]
          },
          "metadata": {
            "tags": []
          }
        },
        {
          "output_type": "stream",
          "text": [
            "[8.5873103e-01 1.5717156e+00 1.2841217e+01 7.9260850e+00 5.7369385e+00\n",
            " 9.4265022e+00 5.0688042e+01 1.0067031e+01 1.0639051e-02 8.7309748e-01]\n",
            "prediction : grenouille\n",
            "label vrai : grenouille\n"
          ],
          "name": "stdout"
        },
        {
          "output_type": "display_data",
          "data": {
            "image/png": "[encoded data removed]",
            "text/plain": [
              "<Figure size 72x72 with 1 Axes>"
            ]
          },
          "metadata": {
            "tags": []
          }
        }
      ]
    },
    {
      "cell_type": "code",
      "metadata": {
        "scrolled": true,
        "trusted": true,
        "id": "yIaCh9y6gPpJ",
        "colab_type": "code",
        "outputId": "3b804ffa-57ed-42ee-91cd-41d534e44e2e",
        "colab": {
          "base_uri": "https://localhost:8080/",
          "height": 187
        }
      },
      "source": [
        "#matrice de confusion\n",
        "\n",
        "conf = confusion_matrix(Y_test_origin,y_pred_bin)/1000*100\n",
        "print(conf)"
      ],
      "execution_count": 0,
      "outputs": [
        {
          "output_type": "stream",
          "text": [
            "[[50.9  6.8  5.5  3.9  2.4  2.1  2.4  3.8 18.1  4.1]\n",
            " [ 4.1 65.1  0.1  2.   1.1  3.4  1.3  2.8  5.9 14.2]\n",
            " [10.5  4.1 25.1  8.8 16.6  8.6 13.1  7.8  3.4  2. ]\n",
            " [ 2.9  4.8  6.3 29.   5.2 22.4 15.5  5.7  3.6  4.6]\n",
            " [ 6.5  3.6 17.9  7.6 33.4  5.2 11.6  9.3  3.   1.9]\n",
            " [ 2.1  3.8  8.2 19.2  6.4 36.6  9.8  7.9  3.2  2.8]\n",
            " [ 0.7  3.4  6.7 12.4 13.8  4.6 52.7  2.8  1.4  1.5]\n",
            " [ 5.   4.6  5.4  7.   7.6  7.5  3.7 50.2  1.9  7.1]\n",
            " [ 8.5 12.6  1.1  2.3  1.8  2.7  0.7  1.2 61.8  7.3]\n",
            " [ 3.6 27.2  0.6  4.1  0.7  2.1  2.8  3.9  6.3 48.7]]\n"
          ],
          "name": "stdout"
        }
      ]
    },
    {
      "cell_type": "code",
      "metadata": {
        "trusted": true,
        "id": "77bq6eAcgPpP",
        "colab_type": "code",
        "outputId": "5f1c6cbd-522e-4d16-aef9-1b634c152e3f",
        "colab": {
          "base_uri": "https://localhost:8080/",
          "height": 591
        }
      },
      "source": [
        "fig = plt.figure()\n",
        "fig, ax = plt.subplots(figsize=(10,10))\n",
        "cax = ax.matshow(conf)\n",
        "fig.colorbar(cax)\n",
        "\n",
        "ax.set_xlabel('Predicton')\n",
        "ax.set_ylabel('Vrai')\n",
        "\n",
        "yticks = [0,1,2,3,4,5,6,7,8,9]\n",
        "xticks = [0,1,2,3,4,5,6,7,8,9]\n",
        "ax.set_yticks(yticks)\n",
        "ax.set_xticks(yticks)\n",
        "ax.set_xticklabels(labels)\n",
        "ax.set_yticklabels(labels)\n",
        "\n",
        "plt.show()"
      ],
      "execution_count": 0,
      "outputs": [
        {
          "output_type": "display_data",
          "data": {
            "text/plain": [
              "<Figure size 72x72 with 0 Axes>"
            ]
          },
          "metadata": {
            "tags": []
          }
        },
        {
          "output_type": "display_data",
          "data": {
            "image/png": "[encoded data removed]",
            "text/plain": [
              "<Figure size 720x720 with 2 Axes>"
            ]
          },
          "metadata": {
            "tags": []
          }
        }
      ]
    },
    {
      "cell_type": "markdown",
      "metadata": {
        "id": "TbBM0jEqgPpc",
        "colab_type": "text"
      },
      "source": [
        "#### Avec un réseau de neurone plus évolué : Un CNN (_Convolutional neural network_) "
      ]
    },
    {
      "cell_type": "markdown",
      "metadata": {
        "collapsed": true,
        "id": "RHS-vcsmgPpp",
        "colab_type": "text"
      },
      "source": [
        "Oui, car on est là 2 fois moins bon que les meilleurs qui atteignent les 98%. On va essayer un CNN : il s'agit d'utiliser des algorithmes dits de convolution qui sont des filtres chargés de mettre en évidence certaines caractéristiques des images puis des techniques de pooling pour réduire le nombre de paramètres à résoudre. \n",
        "\n",
        "![image.png](https://raw.githubusercontent.com/rst-analytics/atelier-ml/master/Capture5.JPG) \n",
        "\n",
        "(source Matlab - Introducing Deep Learning)\n",
        "\n",
        "Voir https://hackernoon.com/visualizing-parts-of-convolutional-neural-networks-using-keras-and-cats-5cc01b214e59\n"
      ]
    },
    {
      "cell_type": "markdown",
      "metadata": {
        "id": "_hwkoQM4gPpu",
        "colab_type": "text"
      },
      "source": [
        "#### Test avec un CNNS classique (modèles à 16 couches d'Oxford - VGG16)\n",
        "\n",
        "Ce modèle est célèbre pour avoir gagné le challenge ImageNet 2014 (classification de 1000 classes sur 14 millions d'images, 92,7% de précision).\n",
        "\n"
      ]
    },
    {
      "cell_type": "markdown",
      "metadata": {
        "collapsed": true,
        "id": "F0AMIzupgPpv",
        "colab_type": "text"
      },
      "source": [
        "##### Le modèle (avec des optimisations agressives : Régularisation L2 + dropout)\n",
        "\n",
        "\n"
      ]
    },
    {
      "cell_type": "markdown",
      "metadata": {
        "collapsed": true,
        "id": "aGpI0724gPpx",
        "colab_type": "text"
      },
      "source": [
        "A ce stade, il n'est pas nécessaire de discuter des techiques de régularisation ou de dropout. Ce sont des techniques d'optimisation permettant d'éviter ou de réduire l'_overfitting_ c'est-à-dire le sur-apprentissage : C'est ce qui apparaît lorsque le modèle est trop calqué sur les données d'apprentissage et est incapable de généraliser pour être efficace avec des données qu'il n'a jamais vu auparavant.  \n",
        "\n",
        "![VGG](https://blog.keras.io/img/imgclf/vgg16_original.png) (source https://blog.keras.io/building-powerful-image-classification-models-using-very-little-data.html)\n",
        "\n",
        "\n",
        "\n",
        "\n",
        "En savoir plus sur le modèle VGG16 (by VGG at Oxford under the Creative Commons Attribution License) :\n",
        "\n",
        "* l'article “Very Deep Convolutional Networks for Large-Scale Image Recognition” de  K. Simonyan and A. Zisserman (University of Oxford) : https://arxiv.org/pdf/1409.1556https://arxiv.org/pdf/1409.1556  \n",
        "* https://keras.io/applications/#vgg16\n",
        "\n",
        "\n",
        "\n"
      ]
    },
    {
      "cell_type": "markdown",
      "metadata": {
        "id": "99nAQHbdgPpz",
        "colab_type": "text"
      },
      "source": [
        "#### Implémentons le modèle"
      ]
    },
    {
      "cell_type": "code",
      "metadata": {
        "trusted": true,
        "id": "4r7CozCpgPp0",
        "colab_type": "code",
        "outputId": "080e5ac6-6be7-44fb-d014-8bf567962eb6",
        "colab": {
          "base_uri": "https://localhost:8080/",
          "height": 1000
        }
      },
      "source": [
        "#Inspiré de https://github.com/geifmany/cifar-vgg/blob/master/cifar10vgg.py\n",
        "\n",
        "from keras import regularizers\n",
        "from keras.layers import BatchNormalization\n",
        "\n",
        "model = Sequential()\n",
        "weight_decay = 0.0005\n",
        "\n",
        "model.add(Conv2D(64, (3, 3), padding='same',\n",
        "                         input_shape=(32,32,3),kernel_regularizer=regularizers.l2(weight_decay)))\n",
        "model.add(Activation('relu'))\n",
        "model.add(BatchNormalization())\n",
        "model.add(Dropout(0.3))\n",
        "\n",
        "model.add(Conv2D(64, (3, 3), padding='same',kernel_regularizer=regularizers.l2(weight_decay)))\n",
        "model.add(Activation('relu'))\n",
        "model.add(BatchNormalization())\n",
        "\n",
        "model.add(MaxPooling2D(pool_size=(2, 2)))\n",
        "\n",
        "model.add(Conv2D(128, (3, 3), padding='same',kernel_regularizer=regularizers.l2(weight_decay)))\n",
        "model.add(Activation('relu'))\n",
        "model.add(BatchNormalization())\n",
        "model.add(Dropout(0.4))\n",
        "\n",
        "model.add(Conv2D(128, (3, 3), padding='same',kernel_regularizer=regularizers.l2(weight_decay)))\n",
        "model.add(Activation('relu'))\n",
        "model.add(BatchNormalization())\n",
        "\n",
        "model.add(MaxPooling2D(pool_size=(2, 2)))\n",
        "\n",
        "model.add(Conv2D(256, (3, 3), padding='same',kernel_regularizer=regularizers.l2(weight_decay)))\n",
        "model.add(Activation('relu'))\n",
        "model.add(BatchNormalization())\n",
        "model.add(Dropout(0.4))\n",
        "\n",
        "model.add(Conv2D(256, (3, 3), padding='same',kernel_regularizer=regularizers.l2(weight_decay)))\n",
        "model.add(Activation('relu'))\n",
        "model.add(BatchNormalization())\n",
        "model.add(Dropout(0.4))\n",
        "\n",
        "model.add(Conv2D(256, (3, 3), padding='same',kernel_regularizer=regularizers.l2(weight_decay)))\n",
        "model.add(Activation('relu'))\n",
        "model.add(BatchNormalization())\n",
        "\n",
        "model.add(MaxPooling2D(pool_size=(2, 2)))\n",
        "\n",
        "\n",
        "model.add(Conv2D(512, (3, 3), padding='same',kernel_regularizer=regularizers.l2(weight_decay)))\n",
        "model.add(Activation('relu'))\n",
        "model.add(BatchNormalization())\n",
        "model.add(Dropout(0.4))\n",
        "\n",
        "model.add(Conv2D(512, (3, 3), padding='same',kernel_regularizer=regularizers.l2(weight_decay)))\n",
        "model.add(Activation('relu'))\n",
        "model.add(BatchNormalization())\n",
        "model.add(Dropout(0.4))\n",
        "\n",
        "model.add(Conv2D(512, (3, 3), padding='same',kernel_regularizer=regularizers.l2(weight_decay)))\n",
        "model.add(Activation('relu'))\n",
        "model.add(BatchNormalization())\n",
        "\n",
        "model.add(MaxPooling2D(pool_size=(2, 2)))\n",
        "\n",
        "\n",
        "model.add(Conv2D(512, (3, 3), padding='same',kernel_regularizer=regularizers.l2(weight_decay)))\n",
        "model.add(Activation('relu'))\n",
        "model.add(BatchNormalization())\n",
        "model.add(Dropout(0.4))\n",
        "\n",
        "model.add(Conv2D(512, (3, 3), padding='same',kernel_regularizer=regularizers.l2(weight_decay)))\n",
        "model.add(Activation('relu'))\n",
        "model.add(BatchNormalization())\n",
        "model.add(Dropout(0.4))\n",
        "\n",
        "model.add(Conv2D(512, (3, 3), padding='same',kernel_regularizer=regularizers.l2(weight_decay)))\n",
        "model.add(Activation('relu'))\n",
        "model.add(BatchNormalization())\n",
        "\n",
        "model.add(MaxPooling2D(pool_size=(2, 2)))\n",
        "model.add(Dropout(0.5))\n",
        "\n",
        "model.add(Flatten())\n",
        "model.add(Dense(512,kernel_regularizer=regularizers.l2(weight_decay)))\n",
        "model.add(Activation('relu'))\n",
        "model.add(BatchNormalization())\n",
        "\n",
        "model.add(Dropout(0.5))\n",
        "model.add(Dense(num_classes))\n",
        "model.add(Activation('softmax'))\n",
        "\n",
        "print(model.summary())\n",
        "model.compile(optimizer='adam', loss=keras.losses.categorical_crossentropy,metrics=['accuracy'])\n",
        "\n",
        "\n"
      ],
      "execution_count": 0,
      "outputs": [
        {
          "output_type": "stream",
          "text": [
            "WARNING:tensorflow:From /usr/local/lib/python3.6/dist-packages/keras/backend/tensorflow_backend.py:2041: The name tf.nn.fused_batch_norm is deprecated. Please use tf.compat.v1.nn.fused_batch_norm instead.\n",
            "\n",
            "WARNING:tensorflow:From /usr/local/lib/python3.6/dist-packages/keras/backend/tensorflow_backend.py:148: The name tf.placeholder_with_default is deprecated. Please use tf.compat.v1.placeholder_with_default instead.\n",
            "\n",
            "WARNING:tensorflow:From /usr/local/lib/python3.6/dist-packages/keras/backend/tensorflow_backend.py:3733: calling dropout (from tensorflow.python.ops.nn_ops) with keep_prob is deprecated and will be removed in a future version.\n",
            "Instructions for updating:\n",
            "Please use `rate` instead of `keep_prob`. Rate should be set to `rate = 1 - keep_prob`.\n",
            "WARNING:tensorflow:From /usr/local/lib/python3.6/dist-packages/keras/backend/tensorflow_backend.py:4267: The name tf.nn.max_pool is deprecated. Please use tf.nn.max_pool2d instead.\n",
            "\n",
            "Model: \"sequential_5\"\n",
            "_________________________________________________________________\n",
            "Layer (type)                 Output Shape              Param #   \n",
            "=================================================================\n",
            "conv2d_1 (Conv2D)            (None, 32, 32, 64)        1792      \n",
            "_________________________________________________________________\n",
            "activation_23 (Activation)   (None, 32, 32, 64)        0         \n",
            "_________________________________________________________________\n",
            "batch_normalization_1 (Batch (None, 32, 32, 64)        256       \n",
            "_________________________________________________________________\n",
            "dropout_1 (Dropout)          (None, 32, 32, 64)        0         \n",
            "_________________________________________________________________\n",
            "conv2d_2 (Conv2D)            (None, 32, 32, 64)        36928     \n",
            "_________________________________________________________________\n",
            "activation_24 (Activation)   (None, 32, 32, 64)        0         \n",
            "_________________________________________________________________\n",
            "batch_normalization_2 (Batch (None, 32, 32, 64)        256       \n",
            "_________________________________________________________________\n",
            "max_pooling2d_1 (MaxPooling2 (None, 16, 16, 64)        0         \n",
            "_________________________________________________________________\n",
            "conv2d_3 (Conv2D)            (None, 16, 16, 128)       73856     \n",
            "_________________________________________________________________\n",
            "activation_25 (Activation)   (None, 16, 16, 128)       0         \n",
            "_________________________________________________________________\n",
            "batch_normalization_3 (Batch (None, 16, 16, 128)       512       \n",
            "_________________________________________________________________\n",
            "dropout_2 (Dropout)          (None, 16, 16, 128)       0         \n",
            "_________________________________________________________________\n",
            "conv2d_4 (Conv2D)            (None, 16, 16, 128)       147584    \n",
            "_________________________________________________________________\n",
            "activation_26 (Activation)   (None, 16, 16, 128)       0         \n",
            "_________________________________________________________________\n",
            "batch_normalization_4 (Batch (None, 16, 16, 128)       512       \n",
            "_________________________________________________________________\n",
            "max_pooling2d_2 (MaxPooling2 (None, 8, 8, 128)         0         \n",
            "_________________________________________________________________\n",
            "conv2d_5 (Conv2D)            (None, 8, 8, 256)         295168    \n",
            "_________________________________________________________________\n",
            "activation_27 (Activation)   (None, 8, 8, 256)         0         \n",
            "_________________________________________________________________\n",
            "batch_normalization_5 (Batch (None, 8, 8, 256)         1024      \n",
            "_________________________________________________________________\n",
            "dropout_3 (Dropout)          (None, 8, 8, 256)         0         \n",
            "_________________________________________________________________\n",
            "conv2d_6 (Conv2D)            (None, 8, 8, 256)         590080    \n",
            "_________________________________________________________________\n",
            "activation_28 (Activation)   (None, 8, 8, 256)         0         \n",
            "_________________________________________________________________\n",
            "batch_normalization_6 (Batch (None, 8, 8, 256)         1024      \n",
            "_________________________________________________________________\n",
            "dropout_4 (Dropout)          (None, 8, 8, 256)         0         \n",
            "_________________________________________________________________\n",
            "conv2d_7 (Conv2D)            (None, 8, 8, 256)         590080    \n",
            "_________________________________________________________________\n",
            "activation_29 (Activation)   (None, 8, 8, 256)         0         \n",
            "_________________________________________________________________\n",
            "batch_normalization_7 (Batch (None, 8, 8, 256)         1024      \n",
            "_________________________________________________________________\n",
            "max_pooling2d_3 (MaxPooling2 (None, 4, 4, 256)         0         \n",
            "_________________________________________________________________\n",
            "conv2d_8 (Conv2D)            (None, 4, 4, 512)         1180160   \n",
            "_________________________________________________________________\n",
            "activation_30 (Activation)   (None, 4, 4, 512)         0         \n",
            "_________________________________________________________________\n",
            "batch_normalization_8 (Batch (None, 4, 4, 512)         2048      \n",
            "_________________________________________________________________\n",
            "dropout_5 (Dropout)          (None, 4, 4, 512)         0         \n",
            "_________________________________________________________________\n",
            "conv2d_9 (Conv2D)            (None, 4, 4, 512)         2359808   \n",
            "_________________________________________________________________\n",
            "activation_31 (Activation)   (None, 4, 4, 512)         0         \n",
            "_________________________________________________________________\n",
            "batch_normalization_9 (Batch (None, 4, 4, 512)         2048      \n",
            "_________________________________________________________________\n",
            "dropout_6 (Dropout)          (None, 4, 4, 512)         0         \n",
            "_________________________________________________________________\n",
            "conv2d_10 (Conv2D)           (None, 4, 4, 512)         2359808   \n",
            "_________________________________________________________________\n",
            "activation_32 (Activation)   (None, 4, 4, 512)         0         \n",
            "_________________________________________________________________\n",
            "batch_normalization_10 (Batc (None, 4, 4, 512)         2048      \n",
            "_________________________________________________________________\n",
            "max_pooling2d_4 (MaxPooling2 (None, 2, 2, 512)         0         \n",
            "_________________________________________________________________\n",
            "conv2d_11 (Conv2D)           (None, 2, 2, 512)         2359808   \n",
            "_________________________________________________________________\n",
            "activation_33 (Activation)   (None, 2, 2, 512)         0         \n",
            "_________________________________________________________________\n",
            "batch_normalization_11 (Batc (None, 2, 2, 512)         2048      \n",
            "_________________________________________________________________\n",
            "dropout_7 (Dropout)          (None, 2, 2, 512)         0         \n",
            "_________________________________________________________________\n",
            "conv2d_12 (Conv2D)           (None, 2, 2, 512)         2359808   \n",
            "_________________________________________________________________\n",
            "activation_34 (Activation)   (None, 2, 2, 512)         0         \n",
            "_________________________________________________________________\n",
            "batch_normalization_12 (Batc (None, 2, 2, 512)         2048      \n",
            "_________________________________________________________________\n",
            "dropout_8 (Dropout)          (None, 2, 2, 512)         0         \n",
            "_________________________________________________________________\n",
            "conv2d_13 (Conv2D)           (None, 2, 2, 512)         2359808   \n",
            "_________________________________________________________________\n",
            "activation_35 (Activation)   (None, 2, 2, 512)         0         \n",
            "_________________________________________________________________\n",
            "batch_normalization_13 (Batc (None, 2, 2, 512)         2048      \n",
            "_________________________________________________________________\n",
            "max_pooling2d_5 (MaxPooling2 (None, 1, 1, 512)         0         \n",
            "_________________________________________________________________\n",
            "dropout_9 (Dropout)          (None, 1, 1, 512)         0         \n",
            "_________________________________________________________________\n",
            "flatten_1 (Flatten)          (None, 512)               0         \n",
            "_________________________________________________________________\n",
            "dense_23 (Dense)             (None, 512)               262656    \n",
            "_________________________________________________________________\n",
            "activation_36 (Activation)   (None, 512)               0         \n",
            "_________________________________________________________________\n",
            "batch_normalization_14 (Batc (None, 512)               2048      \n",
            "_________________________________________________________________\n",
            "dropout_10 (Dropout)         (None, 512)               0         \n",
            "_________________________________________________________________\n",
            "dense_24 (Dense)             (None, 10)                5130      \n",
            "_________________________________________________________________\n",
            "activation_37 (Activation)   (None, 10)                0         \n",
            "=================================================================\n",
            "Total params: 15,001,418\n",
            "Trainable params: 14,991,946\n",
            "Non-trainable params: 9,472\n",
            "_________________________________________________________________\n",
            "None\n"
          ],
          "name": "stdout"
        }
      ]
    },
    {
      "cell_type": "code",
      "metadata": {
        "trusted": true,
        "id": "C3Lk7igugPqR",
        "colab_type": "code",
        "colab": {}
      },
      "source": [
        "X_train2 = X_train_origin/255\n",
        "X_test2 = X_test_origin/255\n"
      ],
      "execution_count": 0,
      "outputs": []
    },
    {
      "cell_type": "markdown",
      "metadata": {
        "id": "qutv3CBagPqX",
        "colab_type": "text"
      },
      "source": [
        "##### Utilisation d'un modèle pré-entrainé\n",
        "\n",
        "Le modèle ci-dessus a été pré-entrainé par mes soins (sur une dizaine d'époques). La phase d'apprentissage est en effet très longue, il est donc illusoire aboutir à un résultat concluant en quelques dizaines de minutes. Il convient de charger les \"poids\" calculés du modèle puis de le jouer sur les données de test."
      ]
    },
    {
      "cell_type": "code",
      "metadata": {
        "colab_type": "code",
        "id": "q4JkrSq_2wZg",
        "outputId": "73ebde6c-7679-4313-e54e-e073123483e8",
        "colab": {
          "base_uri": "https://localhost:8080/",
          "height": 122
        }
      },
      "source": [
        "from google.colab import drive\n",
        "drive.mount('/content/gdrive')"
      ],
      "execution_count": 0,
      "outputs": [
        {
          "output_type": "stream",
          "text": [
            "Go to this URL in a browser: https://accounts.google.com/o/oauth2/auth?client_id=947318989803-6bn6qk8qdgf4n4g3pfee6491hc0brc4i.apps.googleusercontent.com&redirect_uri=urn%3aietf%3awg%3aoauth%3a2.0%3aoob&response_type=code&scope=email%20https%3a%2f%2fwww.googleapis.com%2fauth%2fdocs.test%20https%3a%2f%2fwww.googleapis.com%2fauth%2fdrive%20https%3a%2f%2fwww.googleapis.com%2fauth%2fdrive.photos.readonly%20https%3a%2f%2fwww.googleapis.com%2fauth%2fpeopleapi.readonly\n",
            "\n",
            "Enter your authorization code:\n",
            "··········\n",
            "Mounted at /content/gdrive\n"
          ],
          "name": "stdout"
        }
      ]
    },
    {
      "cell_type": "code",
      "metadata": {
        "trusted": true,
        "id": "X_P8ET2MgPqZ",
        "colab_type": "code",
        "colab": {}
      },
      "source": [
        "model.load_weights(\"/content/gdrive/My Drive/docs/weight_vgg-11.h5\") \n",
        "\n"
      ],
      "execution_count": 0,
      "outputs": []
    },
    {
      "cell_type": "code",
      "metadata": {
        "id": "f1EZykadzCb1",
        "colab_type": "code",
        "colab": {}
      },
      "source": [
        "#training = model.fit(X_train2, Y_train, epochs=10, batch_size=32)"
      ],
      "execution_count": 0,
      "outputs": []
    },
    {
      "cell_type": "code",
      "metadata": {
        "trusted": true,
        "id": "pLVVJW0qgPqd",
        "colab_type": "code",
        "outputId": "436b65c1-946f-4a32-8ced-3d8399e3325e",
        "colab": {
          "base_uri": "https://localhost:8080/",
          "height": 51
        }
      },
      "source": [
        "scores = model.evaluate(X_test2, Y_test, verbose=1)\n",
        "print(scores)"
      ],
      "execution_count": 0,
      "outputs": [
        {
          "output_type": "stream",
          "text": [
            "10000/10000 [==============================] - 144s 14ms/step\n",
            "[1.5163719818115233, 0.8042]\n"
          ],
          "name": "stdout"
        }
      ]
    },
    {
      "cell_type": "code",
      "metadata": {
        "trusted": true,
        "id": "JsBH4BJTgPqj",
        "colab_type": "code",
        "outputId": "26ff2fba-fe1b-4113-ad62-1eea2cd7159e",
        "colab": {
          "base_uri": "https://localhost:8080/",
          "height": 204
        }
      },
      "source": [
        "y_pred = model.predict(X_test2, verbose=1)\n",
        "y_pred_bin=np.argmax(y_pred,axis=-1)\n",
        "confusion_matrix(Y_test_origin,y_pred_bin)"
      ],
      "execution_count": 0,
      "outputs": [
        {
          "output_type": "stream",
          "text": [
            "10000/10000 [==============================] - 139s 14ms/step\n"
          ],
          "name": "stdout"
        },
        {
          "output_type": "execute_result",
          "data": {
            "text/plain": [
              "array([[880,  26,  22,   5,  23,   0,  22,  16,   4,   2],\n",
              "       [  4, 970,   0,   0,   0,   1,   6,   2,   0,  17],\n",
              "       [ 53,   0, 622,  39, 113,  27, 105,  40,   0,   1],\n",
              "       [ 19,   9,  12, 702,  41,  48,  94,  65,   0,  10],\n",
              "       [  2,   0,   2,  31, 886,   3,  41,  35,   0,   0],\n",
              "       [  4,   4,   7, 211,  42, 611,  38,  81,   0,   2],\n",
              "       [  3,   2,   6,  30,   8,   5, 941,   5,   0,   0],\n",
              "       [  5,   1,   5,  11,  33,  10,   3, 930,   0,   2],\n",
              "       [138,  89,   2,   4,  26,   1,  46,   8, 647,  39],\n",
              "       [ 24,  85,   2,   2,   2,   1,  16,  14,   1, 853]])"
            ]
          },
          "metadata": {
            "tags": []
          },
          "execution_count": 40
        }
      ]
    },
    {
      "cell_type": "code",
      "metadata": {
        "trusted": true,
        "id": "DzlXttffgPqm",
        "colab_type": "code",
        "outputId": "afd02c7c-ae73-4672-c446-58cde52cbdca",
        "colab": {
          "base_uri": "https://localhost:8080/",
          "height": 187
        }
      },
      "source": [
        "#matrice de confusion\n",
        "conf = confusion_matrix(Y_test_origin,y_pred_bin)/1000*100\n",
        "print(conf)"
      ],
      "execution_count": 0,
      "outputs": [
        {
          "output_type": "stream",
          "text": [
            "[[88.   2.6  2.2  0.5  2.3  0.   2.2  1.6  0.4  0.2]\n",
            " [ 0.4 97.   0.   0.   0.   0.1  0.6  0.2  0.   1.7]\n",
            " [ 5.3  0.  62.2  3.9 11.3  2.7 10.5  4.   0.   0.1]\n",
            " [ 1.9  0.9  1.2 70.2  4.1  4.8  9.4  6.5  0.   1. ]\n",
            " [ 0.2  0.   0.2  3.1 88.6  0.3  4.1  3.5  0.   0. ]\n",
            " [ 0.4  0.4  0.7 21.1  4.2 61.1  3.8  8.1  0.   0.2]\n",
            " [ 0.3  0.2  0.6  3.   0.8  0.5 94.1  0.5  0.   0. ]\n",
            " [ 0.5  0.1  0.5  1.1  3.3  1.   0.3 93.   0.   0.2]\n",
            " [13.8  8.9  0.2  0.4  2.6  0.1  4.6  0.8 64.7  3.9]\n",
            " [ 2.4  8.5  0.2  0.2  0.2  0.1  1.6  1.4  0.1 85.3]]\n"
          ],
          "name": "stdout"
        }
      ]
    },
    {
      "cell_type": "code",
      "metadata": {
        "trusted": true,
        "id": "1aU2n4pIgPqq",
        "colab_type": "code",
        "outputId": "e5c90c91-d861-4448-f9b0-e03af12b2743",
        "colab": {
          "base_uri": "https://localhost:8080/",
          "height": 597
        }
      },
      "source": [
        "fig = plt.figure()\n",
        "fig, ax = plt.subplots(figsize=(10,10))\n",
        "cax = ax.matshow(conf)\n",
        "fig.colorbar(cax)\n",
        "\n",
        "ax.set_xlabel('Predicton')\n",
        "ax.set_ylabel('Vrai')\n",
        "\n",
        "yticks = [0,1,2,3,4,5,6,7,8,9]\n",
        "xticks = [0,1,2,3,4,5,6,7,8,9]\n",
        "ax.set_yticks(yticks)\n",
        "ax.set_xticks(yticks)\n",
        "ax.set_xticklabels(labels)\n",
        "ax.set_yticklabels(labels)\n",
        "\n",
        "plt.show()"
      ],
      "execution_count": 0,
      "outputs": [
        {
          "output_type": "display_data",
          "data": {
            "text/plain": [
              "<Figure size 72x72 with 0 Axes>"
            ]
          },
          "metadata": {
            "tags": []
          }
        },
        {
          "output_type": "display_data",
          "data": {
            "image/png": "[encoded data removed]",
            "text/plain": [
              "<Figure size 720x720 with 2 Axes>"
            ]
          },
          "metadata": {
            "tags": []
          }
        }
      ]
    },
    {
      "cell_type": "markdown",
      "metadata": {
        "id": "EE_Iq5oGgPqs",
        "colab_type": "text"
      },
      "source": [
        "##### Aller plus loin et faire mieux\n",
        "\n",
        "Pour obtenir de meilleur résultats, il faudrait : \n",
        "\n",
        "* Entrainer les modèles sur plus d'époques\n",
        "* Avoir plus de données en entrée\n",
        "* Faire de la _data-augmentation_, c'est-à-dire générer des nouvelles images à partir des images existantes mais en modifiant les niveaux de zoom, en faisant quelques rotations ou des effets miroir etc. afin simuler de nouvelles images et d'aider le modèle à généraliser : En effet, si le modèle apprend à partir de données où tous les chats regardent vers la droite, pour lui, un chat qui regarde vers la gauche n'est pas un chat !! \n",
        "![image.png](https://blog.keras.io/img/imgclf/cat_data_augmentation.png) (source https://blog.keras.io/building-powerful-image-classification-models-using-very-little-data.html)\n",
        "\n"
      ]
    },
    {
      "cell_type": "markdown",
      "metadata": {
        "id": "Wd0tSm25gPqu",
        "colab_type": "text"
      },
      "source": [
        "### Ok, en réalité ce n'est pas aussi simple\n",
        "\n",
        "Il faut en effet en général passer du temps (beaucoup) pour : \n",
        "* Trouver les données\n",
        "* Explorer et nettoyer les données\n",
        "* Essayer différentes analyses, algorithmes, méthodes puis passer du temps à trouver les bons paramétrages\n",
        "* Présenter convenablement les résultats de manière compréhensible par les non datascientistes en donnant la bonne information utile (transformable en actions concrètes)\n",
        "* Et il existe beaucoup d'autres types d'algorithmes. Il n'est pas nécessaire de faire des réseaux de neurones ..."
      ]
    },
    {
      "cell_type": "markdown",
      "metadata": {
        "id": "hfO5C8HXgPqu",
        "colab_type": "text"
      },
      "source": [
        "### Pour aller plus loin\n",
        "\n",
        "\n",
        "* MOOC : L'excellente spécialisation Data Sciences de Johns Hopkins sur Coursera. https://fr.coursera.org/specializations/jhu-data-science. Une série de 10 MOOC pour apprendre les bases de R, (ré)apprendre quelques principes de bases de statistiques, de régression, de machines learning et pour réaliser quelques projets marrants \n",
        "* MOOC : La spécialisation Deep Learning sur Coursera https://fr.coursera.org/specializations/deep-learning . Une série de 5 MOOC géniaux avec Andrew NG, gourou international de l'IA, pour tout comprendre sur le Deep Learning ... et se familiariser avec Python\n",
        "* Et bien d'autres MOOC ou ressources en ligne\n",
        "* Un excellent livre (en français et en anglais) : \n",
        "\n",
        "![image.png](https://images-na.ssl-images-amazon.com/images/I/51%2BkYprYK1L._SX379_BO1,204,203,200_.jpg)\n",
        "\n",
        "\n",
        "##### Pour en savoir plus : \n",
        "\n",
        "* https://www.college-de-france.fr/media/yann-lecun/UPL7915574462521283497_lecun_20160204_college_de_france_lecon_inaugurale.pdf\n",
        "* https://www.college-de-france.fr/media/yann-lecun/UPL4485925235409209505_Intelligence_Artificielle______Y._LeCun.pdf\n",
        "* https://cvernade.wp.imt.fr/files/2015/01/Introduction.pdf\n",
        "* http://liris.cnrs.fr/christian.wolf/teaching/m2r/m2r-igi-machinelearning1.pdf"
      ]
    },
    {
      "cell_type": "markdown",
      "metadata": {
        "collapsed": true,
        "id": "n5vLp4pZgPqw",
        "colab_type": "text"
      },
      "source": [
        "\n"
      ]
    },
    {
      "cell_type": "code",
      "metadata": {
        "trusted": true,
        "id": "BHjCFuQ2gPqx",
        "colab_type": "code",
        "colab": {}
      },
      "source": [
        ""
      ],
      "execution_count": 0,
      "outputs": []
    }
  ]
}